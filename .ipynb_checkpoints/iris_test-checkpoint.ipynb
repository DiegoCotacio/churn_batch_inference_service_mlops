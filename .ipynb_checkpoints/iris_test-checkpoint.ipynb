{
 "cells": [
  {
   "cell_type": "code",
   "execution_count": 1,
   "id": "6ea7c636",
   "metadata": {},
   "outputs": [
    {
     "name": "stdout",
     "output_type": "stream",
     "text": [
      "Requirement already satisfied: pandas in c:\\users\\diego\\anaconda3\\envs\\curso\\lib\\site-packages (1.5.3)\n",
      "Requirement already satisfied: numpy in c:\\users\\diego\\anaconda3\\envs\\curso\\lib\\site-packages (1.24.4)\n",
      "Requirement already satisfied: scikit-learn in c:\\users\\diego\\anaconda3\\envs\\curso\\lib\\site-packages (1.3.0)\n",
      "Requirement already satisfied: hopsworks in c:\\users\\diego\\anaconda3\\envs\\curso\\lib\\site-packages (3.2.0)\n",
      "Requirement already satisfied: python-dateutil>=2.8.1 in c:\\users\\diego\\anaconda3\\envs\\curso\\lib\\site-packages (from pandas) (2.8.2)\n",
      "Requirement already satisfied: pytz>=2020.1 in c:\\users\\diego\\anaconda3\\envs\\curso\\lib\\site-packages (from pandas) (2022.1)\n",
      "Requirement already satisfied: scipy>=1.5.0 in c:\\users\\diego\\anaconda3\\envs\\curso\\lib\\site-packages (from scikit-learn) (1.9.1)\n",
      "Requirement already satisfied: threadpoolctl>=2.0.0 in c:\\users\\diego\\anaconda3\\envs\\curso\\lib\\site-packages (from scikit-learn) (3.1.0)\n",
      "Requirement already satisfied: joblib>=1.1.1 in c:\\users\\diego\\anaconda3\\envs\\curso\\lib\\site-packages (from scikit-learn) (1.2.0)\n",
      "Requirement already satisfied: furl in c:\\users\\diego\\anaconda3\\envs\\curso\\lib\\site-packages (from hopsworks) (2.1.3)\n",
      "Requirement already satisfied: hsfs[python]<3.3.0,>=3.2.0 in c:\\users\\diego\\anaconda3\\envs\\curso\\lib\\site-packages (from hopsworks) (3.2.0)\n",
      "Requirement already satisfied: requests in c:\\users\\diego\\anaconda3\\envs\\curso\\lib\\site-packages (from hopsworks) (2.27.1)\n",
      "Requirement already satisfied: pyjks in c:\\users\\diego\\anaconda3\\envs\\curso\\lib\\site-packages (from hopsworks) (20.0.0)\n",
      "Requirement already satisfied: mock in c:\\users\\diego\\anaconda3\\envs\\curso\\lib\\site-packages (from hopsworks) (5.0.2)\n",
      "Requirement already satisfied: tqdm in c:\\users\\diego\\appdata\\roaming\\python\\python39\\site-packages (from hopsworks) (4.64.1)\n",
      "Requirement already satisfied: hsml<3.3.0,>=3.2.0 in c:\\users\\diego\\anaconda3\\envs\\curso\\lib\\site-packages (from hopsworks) (3.2.0)\n",
      "Requirement already satisfied: boto3 in c:\\users\\diego\\anaconda3\\envs\\curso\\lib\\site-packages (from hopsworks) (1.26.99)\n",
      "Requirement already satisfied: pyhumps==1.6.1 in c:\\users\\diego\\anaconda3\\envs\\curso\\lib\\site-packages (from hopsworks) (1.6.1)\n",
      "Requirement already satisfied: sqlalchemy in c:\\users\\diego\\anaconda3\\envs\\curso\\lib\\site-packages (from hsfs[python]<3.3.0,>=3.2.0->hopsworks) (1.4.47)\n",
      "Requirement already satisfied: markupsafe<2.1.0 in c:\\users\\diego\\anaconda3\\envs\\curso\\lib\\site-packages (from hsfs[python]<3.3.0,>=3.2.0->hopsworks) (2.0.1)\n",
      "Requirement already satisfied: PyMySQL[rsa] in c:\\users\\diego\\anaconda3\\envs\\curso\\lib\\site-packages (from hsfs[python]<3.3.0,>=3.2.0->hopsworks) (1.1.0)\n",
      "Requirement already satisfied: avro==1.11.0 in c:\\users\\diego\\anaconda3\\envs\\curso\\lib\\site-packages (from hsfs[python]<3.3.0,>=3.2.0->hopsworks) (1.11.0)\n",
      "Requirement already satisfied: great-expectations==0.14.13 in c:\\users\\diego\\anaconda3\\envs\\curso\\lib\\site-packages (from hsfs[python]<3.3.0,>=3.2.0->hopsworks) (0.14.13)\n",
      "Requirement already satisfied: tzlocal in c:\\users\\diego\\anaconda3\\envs\\curso\\lib\\site-packages (from hsfs[python]<3.3.0,>=3.2.0->hopsworks) (5.0.1)\n",
      "Collecting confluent-kafka<=1.9.0\n",
      "  Using cached confluent_kafka-1.9.0-cp39-cp39-win_amd64.whl (3.0 MB)\n",
      "Requirement already satisfied: pyhopshive[thrift] in c:\\users\\diego\\anaconda3\\envs\\curso\\lib\\site-packages (from hsfs[python]<3.3.0,>=3.2.0->hopsworks) (0.6.4.1.dev0)\n",
      "Requirement already satisfied: pyarrow in c:\\users\\diego\\anaconda3\\envs\\curso\\lib\\site-packages (from hsfs[python]<3.3.0,>=3.2.0->hopsworks) (11.0.0)\n",
      "Requirement already satisfied: fastavro<=1.7.3,>=1.4.11 in c:\\users\\diego\\anaconda3\\envs\\curso\\lib\\site-packages (from hsfs[python]<3.3.0,>=3.2.0->hopsworks) (1.7.3)\n",
      "Requirement already satisfied: cryptography>=3.2 in c:\\users\\diego\\anaconda3\\envs\\curso\\lib\\site-packages (from great-expectations==0.14.13->hsfs[python]<3.3.0,>=3.2.0->hopsworks) (37.0.1)\n",
      "Requirement already satisfied: Click>=7.1.2 in c:\\users\\diego\\anaconda3\\envs\\curso\\lib\\site-packages (from great-expectations==0.14.13->hsfs[python]<3.3.0,>=3.2.0->hopsworks) (8.0.4)\n",
      "Requirement already satisfied: mistune>=0.8.4 in c:\\users\\diego\\anaconda3\\envs\\curso\\lib\\site-packages (from great-expectations==0.14.13->hsfs[python]<3.3.0,>=3.2.0->hopsworks) (0.8.4)\n",
      "Requirement already satisfied: jinja2<3.1.0,>=2.10 in c:\\users\\diego\\anaconda3\\envs\\curso\\lib\\site-packages (from great-expectations==0.14.13->hsfs[python]<3.3.0,>=3.2.0->hopsworks) (3.0.3)\n",
      "Requirement already satisfied: ruamel.yaml<0.17.18,>=0.16 in c:\\users\\diego\\anaconda3\\envs\\curso\\lib\\site-packages (from great-expectations==0.14.13->hsfs[python]<3.3.0,>=3.2.0->hopsworks) (0.17.17)\n",
      "Requirement already satisfied: colorama>=0.4.3 in c:\\users\\diego\\anaconda3\\envs\\curso\\lib\\site-packages (from great-expectations==0.14.13->hsfs[python]<3.3.0,>=3.2.0->hopsworks) (0.4.6)\n",
      "Requirement already satisfied: packaging in c:\\users\\diego\\anaconda3\\envs\\curso\\lib\\site-packages (from great-expectations==0.14.13->hsfs[python]<3.3.0,>=3.2.0->hopsworks) (21.3)\n",
      "Requirement already satisfied: pyparsing<3,>=2.4 in c:\\users\\diego\\anaconda3\\envs\\curso\\lib\\site-packages (from great-expectations==0.14.13->hsfs[python]<3.3.0,>=3.2.0->hopsworks) (2.4.7)\n",
      "Requirement already satisfied: altair<5,>=4.0.0 in c:\\users\\diego\\anaconda3\\envs\\curso\\lib\\site-packages (from great-expectations==0.14.13->hsfs[python]<3.3.0,>=3.2.0->hopsworks) (4.2.2)\n",
      "Requirement already satisfied: jsonschema>=2.5.1 in c:\\users\\diego\\anaconda3\\envs\\curso\\lib\\site-packages (from great-expectations==0.14.13->hsfs[python]<3.3.0,>=3.2.0->hopsworks) (4.4.0)\n",
      "Requirement already satisfied: jsonpatch>=1.22 in c:\\users\\diego\\anaconda3\\envs\\curso\\lib\\site-packages (from great-expectations==0.14.13->hsfs[python]<3.3.0,>=3.2.0->hopsworks) (1.32)\n",
      "Requirement already satisfied: termcolor>=1.1.0 in c:\\users\\diego\\anaconda3\\envs\\curso\\lib\\site-packages (from great-expectations==0.14.13->hsfs[python]<3.3.0,>=3.2.0->hopsworks) (2.3.0)\n",
      "Requirement already satisfied: dataclasses in c:\\users\\diego\\anaconda3\\envs\\curso\\lib\\site-packages (from great-expectations==0.14.13->hsfs[python]<3.3.0,>=3.2.0->hopsworks) (0.6)\n",
      "Requirement already satisfied: importlib-metadata>=1.7.0 in c:\\users\\diego\\anaconda3\\envs\\curso\\lib\\site-packages (from great-expectations==0.14.13->hsfs[python]<3.3.0,>=3.2.0->hopsworks) (5.2.0)\n",
      "Requirement already satisfied: nbformat>=5.0 in c:\\users\\diego\\anaconda3\\envs\\curso\\lib\\site-packages (from great-expectations==0.14.13->hsfs[python]<3.3.0,>=3.2.0->hopsworks) (5.3.0)\n",
      "Requirement already satisfied: Ipython>=7.16.3 in c:\\users\\diego\\anaconda3\\envs\\curso\\lib\\site-packages (from great-expectations==0.14.13->hsfs[python]<3.3.0,>=3.2.0->hopsworks) (7.34.0)\n",
      "Requirement already satisfied: urllib3<1.27,>=1.25.4 in c:\\users\\diego\\anaconda3\\envs\\curso\\lib\\site-packages (from great-expectations==0.14.13->hsfs[python]<3.3.0,>=3.2.0->hopsworks) (1.26.9)\n",
      "Requirement already satisfied: typing-extensions>=3.10.0.0 in c:\\users\\diego\\appdata\\roaming\\python\\python39\\site-packages (from great-expectations==0.14.13->hsfs[python]<3.3.0,>=3.2.0->hopsworks) (4.5.0)\n",
      "Requirement already satisfied: toolz in c:\\users\\diego\\anaconda3\\envs\\curso\\lib\\site-packages (from altair<5,>=4.0.0->great-expectations==0.14.13->hsfs[python]<3.3.0,>=3.2.0->hopsworks) (0.12.0)\n",
      "Requirement already satisfied: entrypoints in c:\\users\\diego\\anaconda3\\envs\\curso\\lib\\site-packages (from altair<5,>=4.0.0->great-expectations==0.14.13->hsfs[python]<3.3.0,>=3.2.0->hopsworks) (0.4)\n",
      "Requirement already satisfied: cffi>=1.12 in c:\\users\\diego\\anaconda3\\envs\\curso\\lib\\site-packages (from cryptography>=3.2->great-expectations==0.14.13->hsfs[python]<3.3.0,>=3.2.0->hopsworks) (1.15.0)\n",
      "Requirement already satisfied: pycparser in c:\\users\\diego\\anaconda3\\envs\\curso\\lib\\site-packages (from cffi>=1.12->cryptography>=3.2->great-expectations==0.14.13->hsfs[python]<3.3.0,>=3.2.0->hopsworks) (2.21)\n",
      "Requirement already satisfied: zipp>=0.5 in c:\\users\\diego\\anaconda3\\envs\\curso\\lib\\site-packages (from importlib-metadata>=1.7.0->great-expectations==0.14.13->hsfs[python]<3.3.0,>=3.2.0->hopsworks) (3.8.0)\n",
      "Requirement already satisfied: decorator in c:\\users\\diego\\anaconda3\\envs\\curso\\lib\\site-packages (from Ipython>=7.16.3->great-expectations==0.14.13->hsfs[python]<3.3.0,>=3.2.0->hopsworks) (5.1.1)\n",
      "Requirement already satisfied: traitlets>=4.2 in c:\\users\\diego\\anaconda3\\envs\\curso\\lib\\site-packages (from Ipython>=7.16.3->great-expectations==0.14.13->hsfs[python]<3.3.0,>=3.2.0->hopsworks) (5.9.0)\n",
      "Requirement already satisfied: jedi>=0.16 in c:\\users\\diego\\anaconda3\\envs\\curso\\lib\\site-packages (from Ipython>=7.16.3->great-expectations==0.14.13->hsfs[python]<3.3.0,>=3.2.0->hopsworks) (0.18.1)\n",
      "Requirement already satisfied: setuptools>=18.5 in c:\\users\\diego\\anaconda3\\envs\\curso\\lib\\site-packages (from Ipython>=7.16.3->great-expectations==0.14.13->hsfs[python]<3.3.0,>=3.2.0->hopsworks) (60.10.0)\n",
      "Requirement already satisfied: prompt-toolkit!=3.0.0,!=3.0.1,<3.1.0,>=2.0.0 in c:\\users\\diego\\anaconda3\\envs\\curso\\lib\\site-packages (from Ipython>=7.16.3->great-expectations==0.14.13->hsfs[python]<3.3.0,>=3.2.0->hopsworks) (3.0.38)\n",
      "Requirement already satisfied: pygments in c:\\users\\diego\\anaconda3\\envs\\curso\\lib\\site-packages (from Ipython>=7.16.3->great-expectations==0.14.13->hsfs[python]<3.3.0,>=3.2.0->hopsworks) (2.11.2)\n",
      "Requirement already satisfied: backcall in c:\\users\\diego\\anaconda3\\envs\\curso\\lib\\site-packages (from Ipython>=7.16.3->great-expectations==0.14.13->hsfs[python]<3.3.0,>=3.2.0->hopsworks) (0.2.0)\n",
      "Requirement already satisfied: pickleshare in c:\\users\\diego\\anaconda3\\envs\\curso\\lib\\site-packages (from Ipython>=7.16.3->great-expectations==0.14.13->hsfs[python]<3.3.0,>=3.2.0->hopsworks) (0.7.5)\n",
      "Requirement already satisfied: matplotlib-inline in c:\\users\\diego\\anaconda3\\envs\\curso\\lib\\site-packages (from Ipython>=7.16.3->great-expectations==0.14.13->hsfs[python]<3.3.0,>=3.2.0->hopsworks) (0.1.2)\n",
      "Requirement already satisfied: parso<0.9.0,>=0.8.0 in c:\\users\\diego\\anaconda3\\envs\\curso\\lib\\site-packages (from jedi>=0.16->Ipython>=7.16.3->great-expectations==0.14.13->hsfs[python]<3.3.0,>=3.2.0->hopsworks) (0.8.3)\n",
      "Requirement already satisfied: jsonpointer>=1.9 in c:\\users\\diego\\anaconda3\\envs\\curso\\lib\\site-packages (from jsonpatch>=1.22->great-expectations==0.14.13->hsfs[python]<3.3.0,>=3.2.0->hopsworks) (2.3)\n",
      "Requirement already satisfied: pyrsistent!=0.17.0,!=0.17.1,!=0.17.2,>=0.14.0 in c:\\users\\diego\\anaconda3\\envs\\curso\\lib\\site-packages (from jsonschema>=2.5.1->great-expectations==0.14.13->hsfs[python]<3.3.0,>=3.2.0->hopsworks) (0.18.0)\n",
      "Requirement already satisfied: attrs>=17.4.0 in c:\\users\\diego\\anaconda3\\envs\\curso\\lib\\site-packages (from jsonschema>=2.5.1->great-expectations==0.14.13->hsfs[python]<3.3.0,>=3.2.0->hopsworks) (21.4.0)\n",
      "Requirement already satisfied: jupyter-core in c:\\users\\diego\\anaconda3\\envs\\curso\\lib\\site-packages (from nbformat>=5.0->great-expectations==0.14.13->hsfs[python]<3.3.0,>=3.2.0->hopsworks) (5.3.0)\n",
      "Requirement already satisfied: fastjsonschema in c:\\users\\diego\\anaconda3\\envs\\curso\\lib\\site-packages (from nbformat>=5.0->great-expectations==0.14.13->hsfs[python]<3.3.0,>=3.2.0->hopsworks) (2.15.1)\n",
      "Requirement already satisfied: wcwidth in c:\\users\\diego\\anaconda3\\envs\\curso\\lib\\site-packages (from prompt-toolkit!=3.0.0,!=3.0.1,<3.1.0,>=2.0.0->Ipython>=7.16.3->great-expectations==0.14.13->hsfs[python]<3.3.0,>=3.2.0->hopsworks) (0.2.5)\n",
      "Requirement already satisfied: six>=1.5 in c:\\users\\diego\\anaconda3\\envs\\curso\\lib\\site-packages (from python-dateutil>=2.8.1->pandas) (1.16.0)\n",
      "Requirement already satisfied: certifi>=2017.4.17 in c:\\users\\diego\\anaconda3\\envs\\curso\\lib\\site-packages (from requests->hopsworks) (2022.5.18.1)\n",
      "Requirement already satisfied: idna<4,>=2.5 in c:\\users\\diego\\anaconda3\\envs\\curso\\lib\\site-packages (from requests->hopsworks) (3.3)\n",
      "Requirement already satisfied: charset-normalizer~=2.0.0 in c:\\users\\diego\\anaconda3\\envs\\curso\\lib\\site-packages (from requests->hopsworks) (2.0.4)\n",
      "Requirement already satisfied: ruamel.yaml.clib>=0.1.2 in c:\\users\\diego\\anaconda3\\envs\\curso\\lib\\site-packages (from ruamel.yaml<0.17.18,>=0.16->great-expectations==0.14.13->hsfs[python]<3.3.0,>=3.2.0->hopsworks) (0.2.7)\n",
      "Requirement already satisfied: tzdata in c:\\users\\diego\\anaconda3\\envs\\curso\\lib\\site-packages (from tzlocal->hsfs[python]<3.3.0,>=3.2.0->hopsworks) (2023.3)\n",
      "Requirement already satisfied: jmespath<2.0.0,>=0.7.1 in c:\\users\\diego\\anaconda3\\envs\\curso\\lib\\site-packages (from boto3->hopsworks) (1.0.1)\n",
      "Requirement already satisfied: s3transfer<0.7.0,>=0.6.0 in c:\\users\\diego\\anaconda3\\envs\\curso\\lib\\site-packages (from boto3->hopsworks) (0.6.0)\n",
      "Requirement already satisfied: botocore<1.30.0,>=1.29.99 in c:\\users\\diego\\anaconda3\\envs\\curso\\lib\\site-packages (from boto3->hopsworks) (1.29.99)\n",
      "Requirement already satisfied: orderedmultidict>=1.0.1 in c:\\users\\diego\\anaconda3\\envs\\curso\\lib\\site-packages (from furl->hopsworks) (1.0.1)\n",
      "Requirement already satisfied: pywin32>=300 in c:\\users\\diego\\anaconda3\\envs\\curso\\lib\\site-packages (from jupyter-core->nbformat>=5.0->great-expectations==0.14.13->hsfs[python]<3.3.0,>=3.2.0->hopsworks) (306)\n",
      "Requirement already satisfied: platformdirs>=2.5 in c:\\users\\diego\\anaconda3\\envs\\curso\\lib\\site-packages (from jupyter-core->nbformat>=5.0->great-expectations==0.14.13->hsfs[python]<3.3.0,>=3.2.0->hopsworks) (3.2.0)\n",
      "Requirement already satisfied: future in c:\\users\\diego\\anaconda3\\envs\\curso\\lib\\site-packages (from pyhopshive[thrift]->hsfs[python]<3.3.0,>=3.2.0->hopsworks) (0.18.3)\n",
      "Requirement already satisfied: thrift>=0.10.0 in c:\\users\\diego\\anaconda3\\envs\\curso\\lib\\site-packages (from pyhopshive[thrift]->hsfs[python]<3.3.0,>=3.2.0->hopsworks) (0.16.0)\n",
      "Requirement already satisfied: javaobj-py3 in c:\\users\\diego\\anaconda3\\envs\\curso\\lib\\site-packages (from pyjks->hopsworks) (0.4.3)\n",
      "Requirement already satisfied: twofish in c:\\users\\diego\\anaconda3\\envs\\curso\\lib\\site-packages (from pyjks->hopsworks) (0.3.0)\n",
      "Requirement already satisfied: pycryptodomex in c:\\users\\diego\\anaconda3\\envs\\curso\\lib\\site-packages (from pyjks->hopsworks) (3.18.0)\n",
      "Requirement already satisfied: pyasn1-modules in c:\\users\\diego\\anaconda3\\envs\\curso\\lib\\site-packages (from pyjks->hopsworks) (0.3.0)\n",
      "Requirement already satisfied: pyasn1>=0.3.5 in c:\\users\\diego\\anaconda3\\envs\\curso\\lib\\site-packages (from pyjks->hopsworks) (0.5.0)\n",
      "Requirement already satisfied: greenlet!=0.4.17 in c:\\users\\diego\\anaconda3\\envs\\curso\\lib\\site-packages (from sqlalchemy->hsfs[python]<3.3.0,>=3.2.0->hopsworks) (2.0.2)\n",
      "Installing collected packages: confluent-kafka\n",
      "  Attempting uninstall: confluent-kafka\n",
      "    Found existing installation: confluent-kafka 2.1.1\n",
      "    Uninstalling confluent-kafka-2.1.1:\n",
      "      Successfully uninstalled confluent-kafka-2.1.1\n",
      "Note: you may need to restart the kernel to use updated packages.\n"
     ]
    },
    {
     "name": "stderr",
     "output_type": "stream",
     "text": [
      "ERROR: Could not install packages due to an OSError: [WinError 5] Acceso denegado: 'C:\\\\Users\\\\diego\\\\anaconda3\\\\envs\\\\curso\\\\Lib\\\\site-packages\\\\~-nfluent_kafka.libs\\\\libcrypto-3-x64-1f376d5f9507bc3330a5f961bb54c621.dll'\n",
      "Consider using the `--user` option or check the permissions.\n",
      "\n"
     ]
    }
   ],
   "source": [
    "%pip install pandas numpy scikit-learn numpy hopsworks"
   ]
  },
  {
   "cell_type": "code",
   "execution_count": 2,
   "id": "ad380b51",
   "metadata": {},
   "outputs": [
    {
     "name": "stdout",
     "output_type": "stream",
     "text": [
      "Requirement already satisfied: hsfs in c:\\users\\diego\\anaconda3\\envs\\curso\\lib\\site-packages (3.2.0)\n",
      "Requirement already satisfied: confluent_kafka in c:\\users\\diego\\anaconda3\\envs\\curso\\lib\\site-packages (1.9.0)\n",
      "Collecting confluent_kafka\n",
      "  Using cached confluent_kafka-2.1.1-cp39-cp39-win_amd64.whl (3.4 MB)\n",
      "Requirement already satisfied: requests in c:\\users\\diego\\anaconda3\\envs\\curso\\lib\\site-packages (from hsfs) (2.27.1)\n",
      "Requirement already satisfied: boto3 in c:\\users\\diego\\anaconda3\\envs\\curso\\lib\\site-packages (from hsfs) (1.26.99)\n",
      "Requirement already satisfied: great-expectations==0.14.13 in c:\\users\\diego\\anaconda3\\envs\\curso\\lib\\site-packages (from hsfs) (0.14.13)\n",
      "Requirement already satisfied: mock in c:\\users\\diego\\anaconda3\\envs\\curso\\lib\\site-packages (from hsfs) (5.0.2)\n",
      "Requirement already satisfied: furl in c:\\users\\diego\\anaconda3\\envs\\curso\\lib\\site-packages (from hsfs) (2.1.3)\n",
      "Requirement already satisfied: markupsafe<2.1.0 in c:\\users\\diego\\anaconda3\\envs\\curso\\lib\\site-packages (from hsfs) (2.0.1)\n",
      "Requirement already satisfied: pyjks in c:\\users\\diego\\anaconda3\\envs\\curso\\lib\\site-packages (from hsfs) (20.0.0)\n",
      "Requirement already satisfied: sqlalchemy in c:\\users\\diego\\anaconda3\\envs\\curso\\lib\\site-packages (from hsfs) (1.4.47)\n",
      "Requirement already satisfied: numpy in c:\\users\\diego\\anaconda3\\envs\\curso\\lib\\site-packages (from hsfs) (1.24.4)\n",
      "Requirement already satisfied: avro==1.11.0 in c:\\users\\diego\\anaconda3\\envs\\curso\\lib\\site-packages (from hsfs) (1.11.0)\n",
      "Requirement already satisfied: tzlocal in c:\\users\\diego\\anaconda3\\envs\\curso\\lib\\site-packages (from hsfs) (5.0.1)\n",
      "Requirement already satisfied: pandas<2.0.0,>=1.2.0 in c:\\users\\diego\\anaconda3\\envs\\curso\\lib\\site-packages (from hsfs) (1.5.3)\n",
      "Requirement already satisfied: PyMySQL[rsa] in c:\\users\\diego\\anaconda3\\envs\\curso\\lib\\site-packages (from hsfs) (1.1.0)\n",
      "Requirement already satisfied: pyhumps==1.6.1 in c:\\users\\diego\\anaconda3\\envs\\curso\\lib\\site-packages (from hsfs) (1.6.1)\n",
      "Requirement already satisfied: jsonschema>=2.5.1 in c:\\users\\diego\\anaconda3\\envs\\curso\\lib\\site-packages (from great-expectations==0.14.13->hsfs) (4.4.0)\n",
      "Requirement already satisfied: urllib3<1.27,>=1.25.4 in c:\\users\\diego\\anaconda3\\envs\\curso\\lib\\site-packages (from great-expectations==0.14.13->hsfs) (1.26.9)\n",
      "Requirement already satisfied: pyparsing<3,>=2.4 in c:\\users\\diego\\anaconda3\\envs\\curso\\lib\\site-packages (from great-expectations==0.14.13->hsfs) (2.4.7)\n",
      "Requirement already satisfied: tqdm>=4.59.0 in c:\\users\\diego\\appdata\\roaming\\python\\python39\\site-packages (from great-expectations==0.14.13->hsfs) (4.64.1)\n",
      "Requirement already satisfied: jsonpatch>=1.22 in c:\\users\\diego\\anaconda3\\envs\\curso\\lib\\site-packages (from great-expectations==0.14.13->hsfs) (1.32)\n",
      "Requirement already satisfied: ruamel.yaml<0.17.18,>=0.16 in c:\\users\\diego\\anaconda3\\envs\\curso\\lib\\site-packages (from great-expectations==0.14.13->hsfs) (0.17.17)\n",
      "Requirement already satisfied: termcolor>=1.1.0 in c:\\users\\diego\\anaconda3\\envs\\curso\\lib\\site-packages (from great-expectations==0.14.13->hsfs) (2.3.0)\n",
      "Requirement already satisfied: Ipython>=7.16.3 in c:\\users\\diego\\anaconda3\\envs\\curso\\lib\\site-packages (from great-expectations==0.14.13->hsfs) (7.34.0)\n",
      "Requirement already satisfied: jinja2<3.1.0,>=2.10 in c:\\users\\diego\\anaconda3\\envs\\curso\\lib\\site-packages (from great-expectations==0.14.13->hsfs) (3.0.3)\n",
      "Requirement already satisfied: mistune>=0.8.4 in c:\\users\\diego\\anaconda3\\envs\\curso\\lib\\site-packages (from great-expectations==0.14.13->hsfs) (0.8.4)\n",
      "Requirement already satisfied: Click>=7.1.2 in c:\\users\\diego\\anaconda3\\envs\\curso\\lib\\site-packages (from great-expectations==0.14.13->hsfs) (8.0.4)\n",
      "Requirement already satisfied: pytz>=2021.3 in c:\\users\\diego\\anaconda3\\envs\\curso\\lib\\site-packages (from great-expectations==0.14.13->hsfs) (2022.1)\n",
      "Requirement already satisfied: altair<5,>=4.0.0 in c:\\users\\diego\\anaconda3\\envs\\curso\\lib\\site-packages (from great-expectations==0.14.13->hsfs) (4.2.2)\n",
      "Requirement already satisfied: importlib-metadata>=1.7.0 in c:\\users\\diego\\anaconda3\\envs\\curso\\lib\\site-packages (from great-expectations==0.14.13->hsfs) (5.2.0)\n",
      "Requirement already satisfied: python-dateutil>=2.8.1 in c:\\users\\diego\\anaconda3\\envs\\curso\\lib\\site-packages (from great-expectations==0.14.13->hsfs) (2.8.2)\n",
      "Requirement already satisfied: nbformat>=5.0 in c:\\users\\diego\\anaconda3\\envs\\curso\\lib\\site-packages (from great-expectations==0.14.13->hsfs) (5.3.0)\n",
      "Requirement already satisfied: scipy>=0.19.0 in c:\\users\\diego\\anaconda3\\envs\\curso\\lib\\site-packages (from great-expectations==0.14.13->hsfs) (1.9.1)\n",
      "Requirement already satisfied: typing-extensions>=3.10.0.0 in c:\\users\\diego\\appdata\\roaming\\python\\python39\\site-packages (from great-expectations==0.14.13->hsfs) (4.5.0)\n",
      "Requirement already satisfied: cryptography>=3.2 in c:\\users\\diego\\anaconda3\\envs\\curso\\lib\\site-packages (from great-expectations==0.14.13->hsfs) (37.0.1)\n",
      "Requirement already satisfied: colorama>=0.4.3 in c:\\users\\diego\\anaconda3\\envs\\curso\\lib\\site-packages (from great-expectations==0.14.13->hsfs) (0.4.6)\n",
      "Requirement already satisfied: dataclasses in c:\\users\\diego\\anaconda3\\envs\\curso\\lib\\site-packages (from great-expectations==0.14.13->hsfs) (0.6)\n",
      "Requirement already satisfied: packaging in c:\\users\\diego\\anaconda3\\envs\\curso\\lib\\site-packages (from great-expectations==0.14.13->hsfs) (21.3)\n",
      "Requirement already satisfied: entrypoints in c:\\users\\diego\\anaconda3\\envs\\curso\\lib\\site-packages (from altair<5,>=4.0.0->great-expectations==0.14.13->hsfs) (0.4)\n",
      "Requirement already satisfied: toolz in c:\\users\\diego\\anaconda3\\envs\\curso\\lib\\site-packages (from altair<5,>=4.0.0->great-expectations==0.14.13->hsfs) (0.12.0)\n",
      "Requirement already satisfied: cffi>=1.12 in c:\\users\\diego\\anaconda3\\envs\\curso\\lib\\site-packages (from cryptography>=3.2->great-expectations==0.14.13->hsfs) (1.15.0)\n",
      "Requirement already satisfied: pycparser in c:\\users\\diego\\anaconda3\\envs\\curso\\lib\\site-packages (from cffi>=1.12->cryptography>=3.2->great-expectations==0.14.13->hsfs) (2.21)\n",
      "Requirement already satisfied: zipp>=0.5 in c:\\users\\diego\\anaconda3\\envs\\curso\\lib\\site-packages (from importlib-metadata>=1.7.0->great-expectations==0.14.13->hsfs) (3.8.0)\n",
      "Requirement already satisfied: traitlets>=4.2 in c:\\users\\diego\\anaconda3\\envs\\curso\\lib\\site-packages (from Ipython>=7.16.3->great-expectations==0.14.13->hsfs) (5.9.0)\n",
      "Requirement already satisfied: jedi>=0.16 in c:\\users\\diego\\anaconda3\\envs\\curso\\lib\\site-packages (from Ipython>=7.16.3->great-expectations==0.14.13->hsfs) (0.18.1)\n",
      "Requirement already satisfied: prompt-toolkit!=3.0.0,!=3.0.1,<3.1.0,>=2.0.0 in c:\\users\\diego\\anaconda3\\envs\\curso\\lib\\site-packages (from Ipython>=7.16.3->great-expectations==0.14.13->hsfs) (3.0.38)\n",
      "Requirement already satisfied: decorator in c:\\users\\diego\\anaconda3\\envs\\curso\\lib\\site-packages (from Ipython>=7.16.3->great-expectations==0.14.13->hsfs) (5.1.1)\n",
      "Requirement already satisfied: pickleshare in c:\\users\\diego\\anaconda3\\envs\\curso\\lib\\site-packages (from Ipython>=7.16.3->great-expectations==0.14.13->hsfs) (0.7.5)\n",
      "Requirement already satisfied: backcall in c:\\users\\diego\\anaconda3\\envs\\curso\\lib\\site-packages (from Ipython>=7.16.3->great-expectations==0.14.13->hsfs) (0.2.0)\n",
      "Requirement already satisfied: pygments in c:\\users\\diego\\anaconda3\\envs\\curso\\lib\\site-packages (from Ipython>=7.16.3->great-expectations==0.14.13->hsfs) (2.11.2)\n",
      "Requirement already satisfied: matplotlib-inline in c:\\users\\diego\\anaconda3\\envs\\curso\\lib\\site-packages (from Ipython>=7.16.3->great-expectations==0.14.13->hsfs) (0.1.2)\n",
      "Requirement already satisfied: setuptools>=18.5 in c:\\users\\diego\\anaconda3\\envs\\curso\\lib\\site-packages (from Ipython>=7.16.3->great-expectations==0.14.13->hsfs) (60.10.0)\n",
      "Requirement already satisfied: parso<0.9.0,>=0.8.0 in c:\\users\\diego\\anaconda3\\envs\\curso\\lib\\site-packages (from jedi>=0.16->Ipython>=7.16.3->great-expectations==0.14.13->hsfs) (0.8.3)\n",
      "Requirement already satisfied: jsonpointer>=1.9 in c:\\users\\diego\\anaconda3\\envs\\curso\\lib\\site-packages (from jsonpatch>=1.22->great-expectations==0.14.13->hsfs) (2.3)\n",
      "Requirement already satisfied: attrs>=17.4.0 in c:\\users\\diego\\anaconda3\\envs\\curso\\lib\\site-packages (from jsonschema>=2.5.1->great-expectations==0.14.13->hsfs) (21.4.0)\n",
      "Requirement already satisfied: pyrsistent!=0.17.0,!=0.17.1,!=0.17.2,>=0.14.0 in c:\\users\\diego\\anaconda3\\envs\\curso\\lib\\site-packages (from jsonschema>=2.5.1->great-expectations==0.14.13->hsfs) (0.18.0)\n",
      "Requirement already satisfied: fastjsonschema in c:\\users\\diego\\anaconda3\\envs\\curso\\lib\\site-packages (from nbformat>=5.0->great-expectations==0.14.13->hsfs) (2.15.1)\n",
      "Requirement already satisfied: jupyter-core in c:\\users\\diego\\anaconda3\\envs\\curso\\lib\\site-packages (from nbformat>=5.0->great-expectations==0.14.13->hsfs) (5.3.0)\n",
      "Requirement already satisfied: wcwidth in c:\\users\\diego\\anaconda3\\envs\\curso\\lib\\site-packages (from prompt-toolkit!=3.0.0,!=3.0.1,<3.1.0,>=2.0.0->Ipython>=7.16.3->great-expectations==0.14.13->hsfs) (0.2.5)\n",
      "Requirement already satisfied: six>=1.5 in c:\\users\\diego\\anaconda3\\envs\\curso\\lib\\site-packages (from python-dateutil>=2.8.1->great-expectations==0.14.13->hsfs) (1.16.0)\n",
      "Requirement already satisfied: idna<4,>=2.5 in c:\\users\\diego\\anaconda3\\envs\\curso\\lib\\site-packages (from requests->hsfs) (3.3)\n",
      "Requirement already satisfied: charset-normalizer~=2.0.0 in c:\\users\\diego\\anaconda3\\envs\\curso\\lib\\site-packages (from requests->hsfs) (2.0.4)\n",
      "Requirement already satisfied: certifi>=2017.4.17 in c:\\users\\diego\\anaconda3\\envs\\curso\\lib\\site-packages (from requests->hsfs) (2022.5.18.1)\n",
      "Requirement already satisfied: ruamel.yaml.clib>=0.1.2 in c:\\users\\diego\\anaconda3\\envs\\curso\\lib\\site-packages (from ruamel.yaml<0.17.18,>=0.16->great-expectations==0.14.13->hsfs) (0.2.7)\n",
      "Requirement already satisfied: tzdata in c:\\users\\diego\\anaconda3\\envs\\curso\\lib\\site-packages (from tzlocal->hsfs) (2023.3)\n",
      "Requirement already satisfied: jmespath<2.0.0,>=0.7.1 in c:\\users\\diego\\anaconda3\\envs\\curso\\lib\\site-packages (from boto3->hsfs) (1.0.1)\n",
      "Requirement already satisfied: botocore<1.30.0,>=1.29.99 in c:\\users\\diego\\anaconda3\\envs\\curso\\lib\\site-packages (from boto3->hsfs) (1.29.99)\n",
      "Requirement already satisfied: s3transfer<0.7.0,>=0.6.0 in c:\\users\\diego\\anaconda3\\envs\\curso\\lib\\site-packages (from boto3->hsfs) (0.6.0)\n",
      "Requirement already satisfied: orderedmultidict>=1.0.1 in c:\\users\\diego\\anaconda3\\envs\\curso\\lib\\site-packages (from furl->hsfs) (1.0.1)\n",
      "Requirement already satisfied: platformdirs>=2.5 in c:\\users\\diego\\anaconda3\\envs\\curso\\lib\\site-packages (from jupyter-core->nbformat>=5.0->great-expectations==0.14.13->hsfs) (3.2.0)\n",
      "Requirement already satisfied: pywin32>=300 in c:\\users\\diego\\anaconda3\\envs\\curso\\lib\\site-packages (from jupyter-core->nbformat>=5.0->great-expectations==0.14.13->hsfs) (306)\n",
      "Requirement already satisfied: javaobj-py3 in c:\\users\\diego\\anaconda3\\envs\\curso\\lib\\site-packages (from pyjks->hsfs) (0.4.3)\n",
      "Requirement already satisfied: pyasn1-modules in c:\\users\\diego\\anaconda3\\envs\\curso\\lib\\site-packages (from pyjks->hsfs) (0.3.0)\n",
      "Requirement already satisfied: pyasn1>=0.3.5 in c:\\users\\diego\\anaconda3\\envs\\curso\\lib\\site-packages (from pyjks->hsfs) (0.5.0)\n",
      "Requirement already satisfied: twofish in c:\\users\\diego\\anaconda3\\envs\\curso\\lib\\site-packages (from pyjks->hsfs) (0.3.0)\n",
      "Requirement already satisfied: pycryptodomex in c:\\users\\diego\\anaconda3\\envs\\curso\\lib\\site-packages (from pyjks->hsfs) (3.18.0)\n",
      "Requirement already satisfied: greenlet!=0.4.17 in c:\\users\\diego\\anaconda3\\envs\\curso\\lib\\site-packages (from sqlalchemy->hsfs) (2.0.2)\n",
      "Installing collected packages: confluent-kafka\n",
      "  Attempting uninstall: confluent-kafka\n",
      "    Found existing installation: confluent-kafka 1.9.0\n",
      "    Uninstalling confluent-kafka-1.9.0:\n",
      "      Successfully uninstalled confluent-kafka-1.9.0\n",
      "Successfully installed confluent-kafka-2.1.1\n",
      "Note: you may need to restart the kernel to use updated packages.\n"
     ]
    }
   ],
   "source": [
    "%pip install --upgrade hsfs confluent_kafka"
   ]
  },
  {
   "cell_type": "code",
   "execution_count": 3,
   "id": "018efc48",
   "metadata": {},
   "outputs": [],
   "source": [
    "import random\n",
    "import pandas as pd\n",
    "import numpy as np \n",
    "import hopsworks\n",
    "import os"
   ]
  },
  {
   "cell_type": "code",
   "execution_count": 4,
   "id": "38646f40",
   "metadata": {},
   "outputs": [],
   "source": [
    "#Backfill o crear new synstetgic input data:\n",
    "iris_df = pd.read_csv(\"https://repo.hops.works/master/hopsworks-tutorials/data/iris.csv\")"
   ]
  },
  {
   "cell_type": "code",
   "execution_count": 5,
   "id": "92778837",
   "metadata": {},
   "outputs": [
    {
     "name": "stdout",
     "output_type": "stream",
     "text": [
      "Connected. Call `.close()` to terminate connection gracefully.\n",
      "\n",
      "Logged in to project, explore it here https://c.app.hopsworks.ai:443/p/61594\n",
      "Connected. Call `.close()` to terminate connection gracefully.\n"
     ]
    }
   ],
   "source": [
    "project = hopsworks.login()\n",
    "fs = project.get_feature_store()"
   ]
  },
  {
   "cell_type": "code",
   "execution_count": 6,
   "id": "b708b2dd",
   "metadata": {},
   "outputs": [
    {
     "data": {
      "application/vnd.jupyter.widget-view+json": {
       "model_id": "3eef14a7c0ce473e95aefd52bd7dae0a",
       "version_major": 2,
       "version_minor": 0
      },
      "text/plain": [
       "Uploading Dataframe: 0.00% |          | Rows 0/150 | Elapsed Time: 00:00 | Remaining Time: ?"
      ]
     },
     "metadata": {},
     "output_type": "display_data"
    },
    {
     "ename": "KafkaException",
     "evalue": "KafkaError{code=_TRANSPORT,val=-195,str=\"Failed to get metadata: Local: Broker transport failure\"}",
     "output_type": "error",
     "traceback": [
      "\u001b[1;31m---------------------------------------------------------------------------\u001b[0m",
      "\u001b[1;31mKafkaException\u001b[0m                            Traceback (most recent call last)",
      "\u001b[1;32m~\\AppData\\Local\\Temp\\ipykernel_68\\3171536952.py\u001b[0m in \u001b[0;36m<cell line: 8>\u001b[1;34m()\u001b[0m\n\u001b[0;32m      6\u001b[0m                                              )\n\u001b[0;32m      7\u001b[0m \u001b[1;33m\u001b[0m\u001b[0m\n\u001b[1;32m----> 8\u001b[1;33m \u001b[0miris_feat_g\u001b[0m\u001b[1;33m.\u001b[0m\u001b[0minsert\u001b[0m\u001b[1;33m(\u001b[0m\u001b[0miris_df\u001b[0m\u001b[1;33m)\u001b[0m\u001b[1;33m\u001b[0m\u001b[1;33m\u001b[0m\u001b[0m\n\u001b[0m",
      "\u001b[1;32m~\\anaconda3\\envs\\curso\\lib\\site-packages\\hsfs\\feature_group.py\u001b[0m in \u001b[0;36minsert\u001b[1;34m(self, features, overwrite, operation, storage, write_options, validation_options, save_code)\u001b[0m\n\u001b[0;32m   1814\u001b[0m         \u001b[0mfeature_dataframe\u001b[0m \u001b[1;33m=\u001b[0m \u001b[0mengine\u001b[0m\u001b[1;33m.\u001b[0m\u001b[0mget_instance\u001b[0m\u001b[1;33m(\u001b[0m\u001b[1;33m)\u001b[0m\u001b[1;33m.\u001b[0m\u001b[0mconvert_to_default_dataframe\u001b[0m\u001b[1;33m(\u001b[0m\u001b[0mfeatures\u001b[0m\u001b[1;33m)\u001b[0m\u001b[1;33m\u001b[0m\u001b[1;33m\u001b[0m\u001b[0m\n\u001b[0;32m   1815\u001b[0m \u001b[1;33m\u001b[0m\u001b[0m\n\u001b[1;32m-> 1816\u001b[1;33m         job, ge_report = self._feature_group_engine.insert(\n\u001b[0m\u001b[0;32m   1817\u001b[0m             \u001b[0mself\u001b[0m\u001b[1;33m,\u001b[0m\u001b[1;33m\u001b[0m\u001b[1;33m\u001b[0m\u001b[0m\n\u001b[0;32m   1818\u001b[0m             \u001b[0mfeature_dataframe\u001b[0m\u001b[1;33m=\u001b[0m\u001b[0mfeature_dataframe\u001b[0m\u001b[1;33m,\u001b[0m\u001b[1;33m\u001b[0m\u001b[1;33m\u001b[0m\u001b[0m\n",
      "\u001b[1;32m~\\anaconda3\\envs\\curso\\lib\\site-packages\\hsfs\\core\\feature_group_engine.py\u001b[0m in \u001b[0;36minsert\u001b[1;34m(self, feature_group, feature_dataframe, overwrite, operation, storage, write_options, validation_options)\u001b[0m\n\u001b[0;32m    124\u001b[0m \u001b[1;33m\u001b[0m\u001b[0m\n\u001b[0;32m    125\u001b[0m         return (\n\u001b[1;32m--> 126\u001b[1;33m             engine.get_instance().save_dataframe(\n\u001b[0m\u001b[0;32m    127\u001b[0m                 \u001b[0mfeature_group\u001b[0m\u001b[1;33m,\u001b[0m\u001b[1;33m\u001b[0m\u001b[1;33m\u001b[0m\u001b[0m\n\u001b[0;32m    128\u001b[0m                 \u001b[0mfeature_dataframe\u001b[0m\u001b[1;33m,\u001b[0m\u001b[1;33m\u001b[0m\u001b[1;33m\u001b[0m\u001b[0m\n",
      "\u001b[1;32m~\\anaconda3\\envs\\curso\\lib\\site-packages\\hsfs\\engine\\python.py\u001b[0m in \u001b[0;36msave_dataframe\u001b[1;34m(self, feature_group, dataframe, operation, online_enabled, storage, offline_write_options, online_write_options, validation_id)\u001b[0m\n\u001b[0;32m    442\u001b[0m             \u001b[1;32mand\u001b[0m \u001b[0mfeature_group\u001b[0m\u001b[1;33m.\u001b[0m\u001b[0monline_enabled\u001b[0m\u001b[1;33m\u001b[0m\u001b[1;33m\u001b[0m\u001b[0m\n\u001b[0;32m    443\u001b[0m         ) or feature_group.stream:\n\u001b[1;32m--> 444\u001b[1;33m             return self._write_dataframe_kafka(\n\u001b[0m\u001b[0;32m    445\u001b[0m                 \u001b[0mfeature_group\u001b[0m\u001b[1;33m,\u001b[0m \u001b[0mdataframe\u001b[0m\u001b[1;33m,\u001b[0m \u001b[0moffline_write_options\u001b[0m\u001b[1;33m\u001b[0m\u001b[1;33m\u001b[0m\u001b[0m\n\u001b[0;32m    446\u001b[0m             )\n",
      "\u001b[1;32m~\\anaconda3\\envs\\curso\\lib\\site-packages\\hsfs\\engine\\python.py\u001b[0m in \u001b[0;36m_write_dataframe_kafka\u001b[1;34m(self, feature_group, dataframe, offline_write_options)\u001b[0m\n\u001b[0;32m    850\u001b[0m             reset_offsets = (\n\u001b[0;32m    851\u001b[0m                 \u001b[0mfeature_group\u001b[0m\u001b[1;33m.\u001b[0m\u001b[0m_online_topic_name\u001b[0m\u001b[1;33m\u001b[0m\u001b[1;33m\u001b[0m\u001b[0m\n\u001b[1;32m--> 852\u001b[1;33m                 not in producer.list_topics(\n\u001b[0m\u001b[0;32m    853\u001b[0m                     \u001b[0mtimeout\u001b[0m\u001b[1;33m=\u001b[0m\u001b[0moffline_write_options\u001b[0m\u001b[1;33m.\u001b[0m\u001b[0mget\u001b[0m\u001b[1;33m(\u001b[0m\u001b[1;34m\"kafka_timeout\"\u001b[0m\u001b[1;33m,\u001b[0m \u001b[1;36m6\u001b[0m\u001b[1;33m)\u001b[0m\u001b[1;33m\u001b[0m\u001b[1;33m\u001b[0m\u001b[0m\n\u001b[0;32m    854\u001b[0m                 ).topics.keys()\n",
      "\u001b[1;31mKafkaException\u001b[0m: KafkaError{code=_TRANSPORT,val=-195,str=\"Failed to get metadata: Local: Broker transport failure\"}"
     ]
    }
   ],
   "source": [
    "#Crear y escrtibr un feature group con primary keys\n",
    "iris_feat_g = fs.get_or_create_feature_group(name = \"iris_v2\",\n",
    "                                             version = 1,\n",
    "                                             primary_key=[\"sepal_length\",\"sepal_width\",\"petal_length\",\"petal_width\"],\n",
    "                                             description=\"Iris flower dataset\"\n",
    "                                             )\n",
    "\n",
    "iris_feat_g.insert(iris_df)"
   ]
  },
  {
   "cell_type": "code",
   "execution_count": null,
   "id": "3722e9a1",
   "metadata": {},
   "outputs": [],
   "source": []
  }
 ],
 "metadata": {
  "kernelspec": {
   "display_name": "Python 3 (ipykernel)",
   "language": "python",
   "name": "python3"
  },
  "language_info": {
   "codemirror_mode": {
    "name": "ipython",
    "version": 3
   },
   "file_extension": ".py",
   "mimetype": "text/x-python",
   "name": "python",
   "nbconvert_exporter": "python",
   "pygments_lexer": "ipython3",
   "version": "3.9.12"
  }
 },
 "nbformat": 4,
 "nbformat_minor": 5
}
