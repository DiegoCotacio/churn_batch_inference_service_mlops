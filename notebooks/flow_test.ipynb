{
 "cells": [
  {
   "cell_type": "code",
   "execution_count": null,
   "id": "b07ed0d4",
   "metadata": {
    "scrolled": true
   },
   "outputs": [],
   "source": [
    "%pip install pandas scikit-learn numpy google-cloud-bigquery hopsworks\n"
   ]
  },
  {
   "cell_type": "code",
   "execution_count": null,
   "id": "a1c8d648",
   "metadata": {},
   "outputs": [],
   "source": [
    "!pip install hsfs[python]"
   ]
  },
  {
   "attachments": {},
   "cell_type": "markdown",
   "id": "775c10f0",
   "metadata": {},
   "source": [
    "# Feature Pipeline\n",
    "### Componente: Backfill data\n"
   ]
  },
  {
   "cell_type": "code",
   "execution_count": 1,
   "id": "7231f366",
   "metadata": {},
   "outputs": [],
   "source": [
    "import pandas as pd"
   ]
  },
  {
   "cell_type": "code",
   "execution_count": 2,
   "id": "02964f8c",
   "metadata": {},
   "outputs": [],
   "source": [
    "demography_df = pd.read_csv(\"https://repo.hops.works/dev/davit/churn/demography.csv\")\n",
    "customer_info_df = pd.read_csv(\"https://repo.hops.works/dev/davit/churn/customer_info.csv\")\n",
    "subscriptions_df = pd.read_csv(\"https://repo.hops.works/dev/davit/churn/subscriptions.csv\")"
   ]
  },
  {
   "cell_type": "code",
   "execution_count": 3,
   "id": "3c70076f",
   "metadata": {},
   "outputs": [
    {
     "data": {
      "text/html": [
       "<div>\n",
       "<style scoped>\n",
       "    .dataframe tbody tr th:only-of-type {\n",
       "        vertical-align: middle;\n",
       "    }\n",
       "\n",
       "    .dataframe tbody tr th {\n",
       "        vertical-align: top;\n",
       "    }\n",
       "\n",
       "    .dataframe thead th {\n",
       "        text-align: right;\n",
       "    }\n",
       "</style>\n",
       "<table border=\"1\" class=\"dataframe\">\n",
       "  <thead>\n",
       "    <tr style=\"text-align: right;\">\n",
       "      <th></th>\n",
       "      <th>customerID</th>\n",
       "      <th>Contract</th>\n",
       "      <th>tenure</th>\n",
       "      <th>PaymentMethod</th>\n",
       "      <th>PaperlessBilling</th>\n",
       "      <th>MonthlyCharges</th>\n",
       "      <th>TotalCharges</th>\n",
       "      <th>Churn</th>\n",
       "    </tr>\n",
       "  </thead>\n",
       "  <tbody>\n",
       "    <tr>\n",
       "      <th>0</th>\n",
       "      <td>7590-VHVEG</td>\n",
       "      <td>Month-to-month</td>\n",
       "      <td>1</td>\n",
       "      <td>Electronic check</td>\n",
       "      <td>Yes</td>\n",
       "      <td>29.85</td>\n",
       "      <td>29.85</td>\n",
       "      <td>No</td>\n",
       "    </tr>\n",
       "    <tr>\n",
       "      <th>1</th>\n",
       "      <td>5575-GNVDE</td>\n",
       "      <td>One year</td>\n",
       "      <td>34</td>\n",
       "      <td>Mailed check</td>\n",
       "      <td>No</td>\n",
       "      <td>56.95</td>\n",
       "      <td>1889.5</td>\n",
       "      <td>No</td>\n",
       "    </tr>\n",
       "    <tr>\n",
       "      <th>2</th>\n",
       "      <td>3668-QPYBK</td>\n",
       "      <td>Month-to-month</td>\n",
       "      <td>2</td>\n",
       "      <td>Mailed check</td>\n",
       "      <td>Yes</td>\n",
       "      <td>53.85</td>\n",
       "      <td>108.15</td>\n",
       "      <td>Yes</td>\n",
       "    </tr>\n",
       "    <tr>\n",
       "      <th>3</th>\n",
       "      <td>7795-CFOCW</td>\n",
       "      <td>One year</td>\n",
       "      <td>45</td>\n",
       "      <td>Bank transfer (automatic)</td>\n",
       "      <td>No</td>\n",
       "      <td>42.30</td>\n",
       "      <td>1840.75</td>\n",
       "      <td>No</td>\n",
       "    </tr>\n",
       "    <tr>\n",
       "      <th>4</th>\n",
       "      <td>9237-HQITU</td>\n",
       "      <td>Month-to-month</td>\n",
       "      <td>2</td>\n",
       "      <td>Electronic check</td>\n",
       "      <td>Yes</td>\n",
       "      <td>70.70</td>\n",
       "      <td>151.65</td>\n",
       "      <td>Yes</td>\n",
       "    </tr>\n",
       "    <tr>\n",
       "      <th>...</th>\n",
       "      <td>...</td>\n",
       "      <td>...</td>\n",
       "      <td>...</td>\n",
       "      <td>...</td>\n",
       "      <td>...</td>\n",
       "      <td>...</td>\n",
       "      <td>...</td>\n",
       "      <td>...</td>\n",
       "    </tr>\n",
       "    <tr>\n",
       "      <th>7038</th>\n",
       "      <td>6840-RESVB</td>\n",
       "      <td>One year</td>\n",
       "      <td>24</td>\n",
       "      <td>Mailed check</td>\n",
       "      <td>Yes</td>\n",
       "      <td>84.80</td>\n",
       "      <td>1990.5</td>\n",
       "      <td>No</td>\n",
       "    </tr>\n",
       "    <tr>\n",
       "      <th>7039</th>\n",
       "      <td>2234-XADUH</td>\n",
       "      <td>One year</td>\n",
       "      <td>72</td>\n",
       "      <td>Credit card (automatic)</td>\n",
       "      <td>Yes</td>\n",
       "      <td>103.20</td>\n",
       "      <td>7362.9</td>\n",
       "      <td>No</td>\n",
       "    </tr>\n",
       "    <tr>\n",
       "      <th>7040</th>\n",
       "      <td>4801-JZAZL</td>\n",
       "      <td>Month-to-month</td>\n",
       "      <td>11</td>\n",
       "      <td>Electronic check</td>\n",
       "      <td>Yes</td>\n",
       "      <td>29.60</td>\n",
       "      <td>346.45</td>\n",
       "      <td>No</td>\n",
       "    </tr>\n",
       "    <tr>\n",
       "      <th>7041</th>\n",
       "      <td>8361-LTMKD</td>\n",
       "      <td>Month-to-month</td>\n",
       "      <td>4</td>\n",
       "      <td>Mailed check</td>\n",
       "      <td>Yes</td>\n",
       "      <td>74.40</td>\n",
       "      <td>306.6</td>\n",
       "      <td>Yes</td>\n",
       "    </tr>\n",
       "    <tr>\n",
       "      <th>7042</th>\n",
       "      <td>3186-AJIEK</td>\n",
       "      <td>Two year</td>\n",
       "      <td>66</td>\n",
       "      <td>Bank transfer (automatic)</td>\n",
       "      <td>Yes</td>\n",
       "      <td>105.65</td>\n",
       "      <td>6844.5</td>\n",
       "      <td>No</td>\n",
       "    </tr>\n",
       "  </tbody>\n",
       "</table>\n",
       "<p>7043 rows × 8 columns</p>\n",
       "</div>"
      ],
      "text/plain": [
       "      customerID        Contract  tenure              PaymentMethod  \\\n",
       "0     7590-VHVEG  Month-to-month       1           Electronic check   \n",
       "1     5575-GNVDE        One year      34               Mailed check   \n",
       "2     3668-QPYBK  Month-to-month       2               Mailed check   \n",
       "3     7795-CFOCW        One year      45  Bank transfer (automatic)   \n",
       "4     9237-HQITU  Month-to-month       2           Electronic check   \n",
       "...          ...             ...     ...                        ...   \n",
       "7038  6840-RESVB        One year      24               Mailed check   \n",
       "7039  2234-XADUH        One year      72    Credit card (automatic)   \n",
       "7040  4801-JZAZL  Month-to-month      11           Electronic check   \n",
       "7041  8361-LTMKD  Month-to-month       4               Mailed check   \n",
       "7042  3186-AJIEK        Two year      66  Bank transfer (automatic)   \n",
       "\n",
       "     PaperlessBilling  MonthlyCharges TotalCharges Churn  \n",
       "0                 Yes           29.85        29.85    No  \n",
       "1                  No           56.95       1889.5    No  \n",
       "2                 Yes           53.85       108.15   Yes  \n",
       "3                  No           42.30      1840.75    No  \n",
       "4                 Yes           70.70       151.65   Yes  \n",
       "...               ...             ...          ...   ...  \n",
       "7038              Yes           84.80       1990.5    No  \n",
       "7039              Yes          103.20       7362.9    No  \n",
       "7040              Yes           29.60       346.45    No  \n",
       "7041              Yes           74.40        306.6   Yes  \n",
       "7042              Yes          105.65       6844.5    No  \n",
       "\n",
       "[7043 rows x 8 columns]"
      ]
     },
     "execution_count": 3,
     "metadata": {},
     "output_type": "execute_result"
    }
   ],
   "source": [
    "customer_info_df"
   ]
  },
  {
   "cell_type": "code",
   "execution_count": 4,
   "id": "a954248d",
   "metadata": {},
   "outputs": [],
   "source": [
    "#ignore warnings\n",
    "import warnings\n",
    "warnings.filterwarnings('ignore')"
   ]
  },
  {
   "cell_type": "code",
   "execution_count": 5,
   "id": "b7c88ed3",
   "metadata": {},
   "outputs": [],
   "source": [
    "#Resolver problemas de nulos:\n",
    "\n",
    "customer_info_df[\"TotalCharges\"] = pd.to_numeric(customer_info_df[\"TotalCharges\"], errors='coerce')\n",
    "customer_info_df[\"TotalCharges\"].fillna(0, inplace=True)\n",
    "\n",
    "customer_info_df[\"Churn\"].replace({\"No\" : 0, \"Yes\" : 1}, inplace=True)"
   ]
  },
  {
   "cell_type": "code",
   "execution_count": 7,
   "id": "3e83c637",
   "metadata": {},
   "outputs": [
    {
     "name": "stdout",
     "output_type": "stream",
     "text": [
      "Connection closed.\n",
      "Connected. Call `.close()` to terminate connection gracefully.\n",
      "\n",
      "Logged in to project, explore it here https://c.app.hopsworks.ai:443/p/61594\n"
     ]
    },
    {
     "ename": "FeatureStoreException",
     "evalue": "Trying to instantiate Python as engine, but 'python' extras are missing in HSFS installation. Install with `pip install hsfs[python]`.",
     "output_type": "error",
     "traceback": [
      "\u001b[1;31m---------------------------------------------------------------------------\u001b[0m",
      "\u001b[1;31mImportError\u001b[0m                               Traceback (most recent call last)",
      "\u001b[1;32m~\\anaconda3\\envs\\curso\\lib\\site-packages\\hsfs\\engine\\__init__.py\u001b[0m in \u001b[0;36minit\u001b[1;34m(engine_type)\u001b[0m\n\u001b[0;32m     32\u001b[0m             \u001b[1;32mtry\u001b[0m\u001b[1;33m:\u001b[0m\u001b[1;33m\u001b[0m\u001b[1;33m\u001b[0m\u001b[0m\n\u001b[1;32m---> 33\u001b[1;33m                 \u001b[1;32mfrom\u001b[0m \u001b[0mhsfs\u001b[0m\u001b[1;33m.\u001b[0m\u001b[0mengine\u001b[0m \u001b[1;32mimport\u001b[0m \u001b[0mpython\u001b[0m\u001b[1;33m\u001b[0m\u001b[1;33m\u001b[0m\u001b[0m\n\u001b[0m\u001b[0;32m     34\u001b[0m             \u001b[1;32mexcept\u001b[0m \u001b[0mImportError\u001b[0m\u001b[1;33m:\u001b[0m\u001b[1;33m\u001b[0m\u001b[1;33m\u001b[0m\u001b[0m\n",
      "\u001b[1;32m~\\anaconda3\\envs\\curso\\lib\\site-packages\\hsfs\\engine\\python.py\u001b[0m in \u001b[0;36m<module>\u001b[1;34m\u001b[0m\n\u001b[0;32m     40\u001b[0m \u001b[1;32mfrom\u001b[0m \u001b[0mtyping\u001b[0m \u001b[1;32mimport\u001b[0m \u001b[0mTypeVar\u001b[0m\u001b[1;33m,\u001b[0m \u001b[0mOptional\u001b[0m\u001b[1;33m,\u001b[0m \u001b[0mDict\u001b[0m\u001b[1;33m,\u001b[0m \u001b[0mAny\u001b[0m\u001b[1;33m\u001b[0m\u001b[1;33m\u001b[0m\u001b[0m\n\u001b[1;32m---> 41\u001b[1;33m \u001b[1;32mfrom\u001b[0m \u001b[0mconfluent_kafka\u001b[0m \u001b[1;32mimport\u001b[0m \u001b[0mProducer\u001b[0m\u001b[1;33m,\u001b[0m \u001b[0mKafkaError\u001b[0m\u001b[1;33m\u001b[0m\u001b[1;33m\u001b[0m\u001b[0m\n\u001b[0m\u001b[0;32m     42\u001b[0m \u001b[1;32mfrom\u001b[0m \u001b[0mtqdm\u001b[0m\u001b[1;33m.\u001b[0m\u001b[0mauto\u001b[0m \u001b[1;32mimport\u001b[0m \u001b[0mtqdm\u001b[0m\u001b[1;33m\u001b[0m\u001b[1;33m\u001b[0m\u001b[0m\n",
      "\u001b[1;32m~\\anaconda3\\envs\\curso\\lib\\site-packages\\confluent_kafka\\__init__.py\u001b[0m in \u001b[0;36m<module>\u001b[1;34m\u001b[0m\n\u001b[0;32m     39\u001b[0m \u001b[1;33m\u001b[0m\u001b[0m\n\u001b[1;32m---> 40\u001b[1;33m \u001b[1;32mfrom\u001b[0m \u001b[1;33m.\u001b[0m\u001b[0mdeserializing_consumer\u001b[0m \u001b[1;32mimport\u001b[0m \u001b[0mDeserializingConsumer\u001b[0m\u001b[1;33m\u001b[0m\u001b[1;33m\u001b[0m\u001b[0m\n\u001b[0m\u001b[0;32m     41\u001b[0m \u001b[1;32mfrom\u001b[0m \u001b[1;33m.\u001b[0m\u001b[0mserializing_producer\u001b[0m \u001b[1;32mimport\u001b[0m \u001b[0mSerializingProducer\u001b[0m\u001b[1;33m\u001b[0m\u001b[1;33m\u001b[0m\u001b[0m\n",
      "\u001b[1;32m~\\anaconda3\\envs\\curso\\lib\\site-packages\\confluent_kafka\\deserializing_consumer.py\u001b[0m in \u001b[0;36m<module>\u001b[1;34m\u001b[0m\n\u001b[0;32m     18\u001b[0m \u001b[1;33m\u001b[0m\u001b[0m\n\u001b[1;32m---> 19\u001b[1;33m \u001b[1;32mfrom\u001b[0m \u001b[0mconfluent_kafka\u001b[0m\u001b[1;33m.\u001b[0m\u001b[0mcimpl\u001b[0m \u001b[1;32mimport\u001b[0m \u001b[0mConsumer\u001b[0m \u001b[1;32mas\u001b[0m \u001b[0m_ConsumerImpl\u001b[0m\u001b[1;33m\u001b[0m\u001b[1;33m\u001b[0m\u001b[0m\n\u001b[0m\u001b[0;32m     20\u001b[0m from .error import (ConsumeError,\n",
      "\u001b[1;31mImportError\u001b[0m: DLL load failed while importing cimpl: No se puede encontrar el módulo especificado.",
      "\nDuring handling of the above exception, another exception occurred:\n",
      "\u001b[1;31mFeatureStoreException\u001b[0m                     Traceback (most recent call last)",
      "\u001b[1;32m~\\AppData\\Local\\Temp\\ipykernel_13092\\1675779895.py\u001b[0m in \u001b[0;36m<cell line: 5>\u001b[1;34m()\u001b[0m\n\u001b[0;32m      3\u001b[0m \u001b[1;32mimport\u001b[0m \u001b[0mhopsworks\u001b[0m\u001b[1;33m\u001b[0m\u001b[1;33m\u001b[0m\u001b[0m\n\u001b[0;32m      4\u001b[0m \u001b[0mproject\u001b[0m \u001b[1;33m=\u001b[0m \u001b[0mhopsworks\u001b[0m\u001b[1;33m.\u001b[0m\u001b[0mlogin\u001b[0m\u001b[1;33m(\u001b[0m\u001b[1;33m)\u001b[0m\u001b[1;33m\u001b[0m\u001b[1;33m\u001b[0m\u001b[0m\n\u001b[1;32m----> 5\u001b[1;33m \u001b[0mfs\u001b[0m \u001b[1;33m=\u001b[0m \u001b[0mproject\u001b[0m\u001b[1;33m.\u001b[0m\u001b[0mget_feature_store\u001b[0m\u001b[1;33m(\u001b[0m\u001b[1;33m)\u001b[0m\u001b[1;33m\u001b[0m\u001b[1;33m\u001b[0m\u001b[0m\n\u001b[0m",
      "\u001b[1;32m~\\anaconda3\\envs\\curso\\lib\\site-packages\\hopsworks\\project.py\u001b[0m in \u001b[0;36mget_feature_store\u001b[1;34m(self)\u001b[0m\n\u001b[0;32m    109\u001b[0m         \u001b[0m_client\u001b[0m \u001b[1;33m=\u001b[0m \u001b[0mclient\u001b[0m\u001b[1;33m.\u001b[0m\u001b[0mget_instance\u001b[0m\u001b[1;33m(\u001b[0m\u001b[1;33m)\u001b[0m\u001b[1;33m\u001b[0m\u001b[1;33m\u001b[0m\u001b[0m\n\u001b[0;32m    110\u001b[0m         \u001b[1;32mif\u001b[0m \u001b[0mtype\u001b[0m\u001b[1;33m(\u001b[0m\u001b[0m_client\u001b[0m\u001b[1;33m)\u001b[0m \u001b[1;33m==\u001b[0m \u001b[0mClient\u001b[0m\u001b[1;33m:\u001b[0m  \u001b[1;31m# If external client\u001b[0m\u001b[1;33m\u001b[0m\u001b[1;33m\u001b[0m\u001b[0m\n\u001b[1;32m--> 111\u001b[1;33m             return connection(\n\u001b[0m\u001b[0;32m    112\u001b[0m                 \u001b[0mhost\u001b[0m\u001b[1;33m=\u001b[0m\u001b[0m_client\u001b[0m\u001b[1;33m.\u001b[0m\u001b[0m_host\u001b[0m\u001b[1;33m,\u001b[0m\u001b[1;33m\u001b[0m\u001b[1;33m\u001b[0m\u001b[0m\n\u001b[0;32m    113\u001b[0m                 \u001b[0mport\u001b[0m\u001b[1;33m=\u001b[0m\u001b[0m_client\u001b[0m\u001b[1;33m.\u001b[0m\u001b[0m_port\u001b[0m\u001b[1;33m,\u001b[0m\u001b[1;33m\u001b[0m\u001b[1;33m\u001b[0m\u001b[0m\n",
      "\u001b[1;32m~\\anaconda3\\envs\\curso\\lib\\site-packages\\hsfs\\connection.py\u001b[0m in \u001b[0;36mconnection\u001b[1;34m(cls, host, port, project, engine, region_name, secrets_store, hostname_verification, trust_store_path, cert_folder, api_key_file, api_key_value)\u001b[0m\n\u001b[0;32m    333\u001b[0m     ):\n\u001b[0;32m    334\u001b[0m         \u001b[1;34m\"\"\"Connection factory method, accessible through `hsfs.connection()`.\"\"\"\u001b[0m\u001b[1;33m\u001b[0m\u001b[1;33m\u001b[0m\u001b[0m\n\u001b[1;32m--> 335\u001b[1;33m         return cls(\n\u001b[0m\u001b[0;32m    336\u001b[0m             \u001b[0mhost\u001b[0m\u001b[1;33m,\u001b[0m\u001b[1;33m\u001b[0m\u001b[1;33m\u001b[0m\u001b[0m\n\u001b[0;32m    337\u001b[0m             \u001b[0mport\u001b[0m\u001b[1;33m,\u001b[0m\u001b[1;33m\u001b[0m\u001b[1;33m\u001b[0m\u001b[0m\n",
      "\u001b[1;32m~\\anaconda3\\envs\\curso\\lib\\site-packages\\hsfs\\connection.py\u001b[0m in \u001b[0;36m__init__\u001b[1;34m(self, host, port, project, engine, region_name, secrets_store, hostname_verification, trust_store_path, cert_folder, api_key_file, api_key_value)\u001b[0m\n\u001b[0;32m    145\u001b[0m         \u001b[0mself\u001b[0m\u001b[1;33m.\u001b[0m\u001b[0m_connected\u001b[0m \u001b[1;33m=\u001b[0m \u001b[1;32mFalse\u001b[0m\u001b[1;33m\u001b[0m\u001b[1;33m\u001b[0m\u001b[0m\n\u001b[0;32m    146\u001b[0m \u001b[1;33m\u001b[0m\u001b[0m\n\u001b[1;32m--> 147\u001b[1;33m         \u001b[0mself\u001b[0m\u001b[1;33m.\u001b[0m\u001b[0mconnect\u001b[0m\u001b[1;33m(\u001b[0m\u001b[1;33m)\u001b[0m\u001b[1;33m\u001b[0m\u001b[1;33m\u001b[0m\u001b[0m\n\u001b[0m\u001b[0;32m    148\u001b[0m \u001b[1;33m\u001b[0m\u001b[0m\n\u001b[0;32m    149\u001b[0m     \u001b[1;33m@\u001b[0m\u001b[0mconnected\u001b[0m\u001b[1;33m\u001b[0m\u001b[1;33m\u001b[0m\u001b[0m\n",
      "\u001b[1;32m~\\anaconda3\\envs\\curso\\lib\\site-packages\\hsfs\\decorators.py\u001b[0m in \u001b[0;36mif_not_connected\u001b[1;34m(inst, *args, **kwargs)\u001b[0m\n\u001b[0;32m     23\u001b[0m         \u001b[1;32mif\u001b[0m \u001b[0minst\u001b[0m\u001b[1;33m.\u001b[0m\u001b[0m_connected\u001b[0m\u001b[1;33m:\u001b[0m\u001b[1;33m\u001b[0m\u001b[1;33m\u001b[0m\u001b[0m\n\u001b[0;32m     24\u001b[0m             \u001b[1;32mraise\u001b[0m \u001b[0mHopsworksConnectionError\u001b[0m\u001b[1;33m\u001b[0m\u001b[1;33m\u001b[0m\u001b[0m\n\u001b[1;32m---> 25\u001b[1;33m         \u001b[1;32mreturn\u001b[0m \u001b[0mfn\u001b[0m\u001b[1;33m(\u001b[0m\u001b[0minst\u001b[0m\u001b[1;33m,\u001b[0m \u001b[1;33m*\u001b[0m\u001b[0margs\u001b[0m\u001b[1;33m,\u001b[0m \u001b[1;33m**\u001b[0m\u001b[0mkwargs\u001b[0m\u001b[1;33m)\u001b[0m\u001b[1;33m\u001b[0m\u001b[1;33m\u001b[0m\u001b[0m\n\u001b[0m\u001b[0;32m     26\u001b[0m \u001b[1;33m\u001b[0m\u001b[0m\n\u001b[0;32m     27\u001b[0m     \u001b[1;32mreturn\u001b[0m \u001b[0mif_not_connected\u001b[0m\u001b[1;33m\u001b[0m\u001b[1;33m\u001b[0m\u001b[0m\n",
      "\u001b[1;32m~\\anaconda3\\envs\\curso\\lib\\site-packages\\hsfs\\connection.py\u001b[0m in \u001b[0;36mconnect\u001b[1;34m(self)\u001b[0m\n\u001b[0;32m    236\u001b[0m \u001b[1;33m\u001b[0m\u001b[0m\n\u001b[0;32m    237\u001b[0m             \u001b[1;31m# init engine\u001b[0m\u001b[1;33m\u001b[0m\u001b[1;33m\u001b[0m\u001b[0m\n\u001b[1;32m--> 238\u001b[1;33m             \u001b[0mengine\u001b[0m\u001b[1;33m.\u001b[0m\u001b[0minit\u001b[0m\u001b[1;33m(\u001b[0m\u001b[0mself\u001b[0m\u001b[1;33m.\u001b[0m\u001b[0m_engine\u001b[0m\u001b[1;33m)\u001b[0m\u001b[1;33m\u001b[0m\u001b[1;33m\u001b[0m\u001b[0m\n\u001b[0m\u001b[0;32m    239\u001b[0m \u001b[1;33m\u001b[0m\u001b[0m\n\u001b[0;32m    240\u001b[0m             \u001b[0mself\u001b[0m\u001b[1;33m.\u001b[0m\u001b[0m_feature_store_api\u001b[0m \u001b[1;33m=\u001b[0m \u001b[0mfeature_store_api\u001b[0m\u001b[1;33m.\u001b[0m\u001b[0mFeatureStoreApi\u001b[0m\u001b[1;33m(\u001b[0m\u001b[1;33m)\u001b[0m\u001b[1;33m\u001b[0m\u001b[1;33m\u001b[0m\u001b[0m\n",
      "\u001b[1;32m~\\anaconda3\\envs\\curso\\lib\\site-packages\\hsfs\\engine\\__init__.py\u001b[0m in \u001b[0;36minit\u001b[1;34m(engine_type)\u001b[0m\n\u001b[0;32m     33\u001b[0m                 \u001b[1;32mfrom\u001b[0m \u001b[0mhsfs\u001b[0m\u001b[1;33m.\u001b[0m\u001b[0mengine\u001b[0m \u001b[1;32mimport\u001b[0m \u001b[0mpython\u001b[0m\u001b[1;33m\u001b[0m\u001b[1;33m\u001b[0m\u001b[0m\n\u001b[0;32m     34\u001b[0m             \u001b[1;32mexcept\u001b[0m \u001b[0mImportError\u001b[0m\u001b[1;33m:\u001b[0m\u001b[1;33m\u001b[0m\u001b[1;33m\u001b[0m\u001b[0m\n\u001b[1;32m---> 35\u001b[1;33m                 raise exceptions.FeatureStoreException(\n\u001b[0m\u001b[0;32m     36\u001b[0m                     \u001b[1;34m\"Trying to instantiate Python as engine, but 'python' extras are \"\u001b[0m\u001b[1;33m\u001b[0m\u001b[1;33m\u001b[0m\u001b[0m\n\u001b[0;32m     37\u001b[0m                     \u001b[1;34m\"missing in HSFS installation. Install with `pip install \"\u001b[0m\u001b[1;33m\u001b[0m\u001b[1;33m\u001b[0m\u001b[0m\n",
      "\u001b[1;31mFeatureStoreException\u001b[0m: Trying to instantiate Python as engine, but 'python' extras are missing in HSFS installation. Install with `pip install hsfs[python]`."
     ]
    }
   ],
   "source": [
    "#Creación de feature group:\n",
    "\n",
    "import hopsworks\n",
    "project = hopsworks.login()\n",
    "fs = project.get_feature_store()"
   ]
  },
  {
   "cell_type": "code",
   "execution_count": null,
   "id": "5dadbddc",
   "metadata": {},
   "outputs": [],
   "source": []
  },
  {
   "cell_type": "code",
   "execution_count": null,
   "id": "b8b780d5",
   "metadata": {},
   "outputs": [],
   "source": []
  },
  {
   "cell_type": "code",
   "execution_count": null,
   "id": "efaeb033",
   "metadata": {},
   "outputs": [],
   "source": []
  },
  {
   "cell_type": "code",
   "execution_count": null,
   "id": "69ff7e11",
   "metadata": {},
   "outputs": [],
   "source": []
  },
  {
   "cell_type": "code",
   "execution_count": null,
   "id": "772817e3",
   "metadata": {},
   "outputs": [],
   "source": []
  },
  {
   "cell_type": "code",
   "execution_count": null,
   "id": "c4533739",
   "metadata": {},
   "outputs": [],
   "source": [
    "#import hopsworks\n",
    "import pandas as pd\n",
    "import joblib\n",
    "import os\n",
    "import seaborn as sns\n",
    "from scipy import stats\n",
    "import matplotlib.pyplot as plt\n",
    "import time\n",
    "import warnings\n",
    "warnings.filterwarnings('ignore')\n",
    "#from hsml.schema import Schema\n",
    "#from hsml.model_schema import ModelSchema\n",
    "\n",
    " # 2. Preprocesamiento\n",
    "import numpy as np\n",
    "from sklearn.compose import ColumnTransformer\n",
    "from sklearn.pipeline import Pipeline\n",
    "from sklearn.impute import SimpleImputer\n",
    "from sklearn.preprocessing import StandardScaler, OneHotEncoder, LabelEncoder\n",
    "from sklearn.feature_selection import SelectPercentile, chi2\n",
    "\n",
    " # 3. Entrenamiento\n",
    "from sklearn.linear_model import LogisticRegression\n",
    "\n",
    "  # 3. Evaluación\n",
    "from sklearn.model_selection import train_test_split, RandomizedSearchCV\n",
    "from sklearn.preprocessing import MinMaxScaler\n",
    "from sklearn.metrics import ConfusionMatrixDisplay, RocCurveDisplay\n",
    "from sklearn.ensemble import RandomForestClassifier\n",
    "from sklearn.metrics import(\n",
    "    accuracy_score, confusion_matrix, classification_report, \n",
    "    roc_auc_score, roc_curve, auc\n",
    ")"
   ]
  },
  {
   "cell_type": "code",
   "execution_count": null,
   "id": "079ec739",
   "metadata": {
    "scrolled": true
   },
   "outputs": [],
   "source": [
    "df"
   ]
  },
  {
   "cell_type": "code",
   "execution_count": null,
   "id": "77ca263a",
   "metadata": {},
   "outputs": [],
   "source": [
    "df.dtypes"
   ]
  },
  {
   "cell_type": "code",
   "execution_count": null,
   "id": "95e0aae6",
   "metadata": {},
   "outputs": [],
   "source": [
    " def convert_dt(): \n",
    "    df['totalcharges'] = pd.to_numeric(df['totalcharges'], errors='coerce')\n",
    "    df['clienteidentifier'] = df['clienteidentifier'].astype(str)\n",
    "    df['multiplelines'] = df['multiplelines'].astype(str)\n",
    "    df['internetservice'] = df['internetservice'].astype(str)\n",
    "    df['onlinesecurity'] = df['onlinesecurity'].astype(str)\n",
    "    df['onlinebackup'] = df['onlinebackup'].astype(str)\n",
    "    df['deviceprotection'] = df['deviceprotection'].astype(str)\n",
    "    df['techsupport'] = df['techsupport'].astype(str)\n",
    "    df['streamingtv'] = df['streamingtv'].astype(str)\n",
    "    df['streamingmovies'] = df['streamingmovies'].astype(str)\n",
    "    df['contract'] = df['contract'].astype(str)\n",
    "    df['paymentmethod'] = df['paymentmethod'].astype(str)\n",
    "    df['gender'] = df['gender'].astype(str)\n",
    "    df['paperlessbilling'] = df['paperlessbilling'].astype(str)\n",
    "    df['partner'] = df['partner'].astype(str)\n",
    "    df['dependents'] = df['dependents'].astype(str)\n",
    "    df['phoneservice'] = df['phoneservice'].astype(str)\n",
    "    df['seniorcitizen'] = df['seniorcitizen'].astype(str)\n",
    "    df['monthlycharges'] = df['monthlycharges'].astype(float)\n",
    "    df['totalcharges'] = df['totalcharges'].astype(float)\n",
    "    df['tenure'] = df['tenure'].astype(float)\n",
    "    df['churn'] = df['churn'].astype(str)\n",
    "    #df['fecha_ingreso'] = pd.to_datetime(df['fecha_ingreso']).dt.date\n",
    "    \n",
    "    new_order = ['clienteidentifier','multiplelines','internetservice','onlinesecurity','onlinebackup',\n",
    "             'deviceprotection','techsupport','streamingtv','streamingmovies','contract','paymentmethod',\n",
    "             'gender','paperlessbilling','partner','dependents','phoneservice','seniorcitizen',\n",
    "             'monthlycharges','totalcharges','tenure','churn']\n",
    "    \n",
    "    df = df.reindex(columns=new_order)\n",
    "    \n",
    "    return df\n",
    "\n"
   ]
  },
  {
   "cell_type": "code",
   "execution_count": null,
   "id": "4549287d",
   "metadata": {},
   "outputs": [],
   "source": [
    "data = convert_dt()"
   ]
  },
  {
   "cell_type": "code",
   "execution_count": null,
   "id": "da93d022",
   "metadata": {},
   "outputs": [],
   "source": [
    "new_order = ['clienteidentifier','multiplelines','internetservice','onlinesecurity','onlinebackup',\n",
    "             'deviceprotection','techsupport','streamingtv','streamingmovies','contract','paymentmethod',\n",
    "             'gender','paperlessbilling','partner','dependents','phoneservice','seniorcitizen',\n",
    "             'monthlycharges','totalcharges','tenure','churn'\n",
    "]\n",
    "\n",
    "df = data.reindex(columns=new_order)"
   ]
  },
  {
   "cell_type": "code",
   "execution_count": null,
   "id": "2901c6de",
   "metadata": {},
   "outputs": [],
   "source": [
    "df = df.drop(['clienteidentifier'], axis = 1)"
   ]
  },
  {
   "cell_type": "code",
   "execution_count": null,
   "id": "cd33b26c",
   "metadata": {},
   "outputs": [],
   "source": [
    "df.dtypes"
   ]
  },
  {
   "cell_type": "code",
   "execution_count": null,
   "id": "5a504529",
   "metadata": {},
   "outputs": [],
   "source": [
    "df"
   ]
  },
  {
   "cell_type": "code",
   "execution_count": null,
   "id": "632f56c7",
   "metadata": {},
   "outputs": [],
   "source": [
    "# Dividir las variables en numéricas y categóricas\n",
    "#label = ['churn']\n",
    "#numeric_features = ['tenure', 'monthlycharges', 'totalcharges']\n",
    "#categorical_features = ['gender', 'seniorcitizen', 'partner', 'dependents', 'phoneservice', 'multipleLines',\n",
    " #                       'internetservice', 'onlinesecurity', 'onlinebackup', 'deviceprotection', 'techsupport',\n",
    "  #                      'streamingtv', 'streamingmovies', 'contract', 'paperlessbilling', 'paymentmethod']"
   ]
  },
  {
   "cell_type": "code",
   "execution_count": null,
   "id": "c0644e9e",
   "metadata": {},
   "outputs": [],
   "source": [
    "numeric_features = ['monthlycharges', 'totalcharges', 'tenure']\n",
    "\n",
    "categorical_features = ['multiplelines', 'internetservice', 'onlinesecurity', 'onlinebackup', 'deviceprotection', 'techsupport', \n",
    " 'streamingtv', 'streamingmovies', 'contract', 'paymentmethod', 'gender', 'paperlessbilling', 'partner',\n",
    " 'dependents', 'phoneservice', 'seniorcitizen']"
   ]
  },
  {
   "cell_type": "code",
   "execution_count": null,
   "id": "39e5f955",
   "metadata": {},
   "outputs": [],
   "source": [
    "\n",
    "def remove_duplicates(df):\n",
    "    df.drop_duplicates(inplace=True)\n",
    "    return df\n",
    "\n",
    "def impute_missing_values(df):\n",
    "    # Variables categóricas\n",
    "    categorical_cols = df.select_dtypes(include='object').columns\n",
    "    #categorical_cols = categorical_cols.drop('churn')  # Excluir 'churn'\n",
    "    categorical_imputer = SimpleImputer(strategy='most_frequent')\n",
    "    df[categorical_cols] = categorical_imputer.fit_transform(df[categorical_cols])\n",
    "\n",
    "    # Variables numéricas\n",
    "    numeric_cols = df.select_dtypes(include=['float64', 'int64']).columns\n",
    "    numeric_imputer = SimpleImputer(strategy='mean')\n",
    "    df[numeric_cols] = numeric_imputer.fit_transform(df[numeric_cols])\n",
    "\n",
    "    return df\n",
    "\n",
    "def normalize_numeric_variables(df):\n",
    "    numeric_cols = ['monthlycharges', 'totalcharges', 'tenure']\n",
    "\n",
    "    scaler = MinMaxScaler()\n",
    "    df[numeric_cols] = scaler.fit_transform(df[numeric_cols])\n",
    "\n",
    "    return df\n",
    "\n",
    "    \n",
    "def perform_one_hot_encoding(df, categorical_features):\n",
    "    # Crea el codificador OneHotEncoder\n",
    "    encoder = OneHotEncoder(handle_unknown='ignore', sparse=False)\n",
    "    \n",
    "    # Selecciona las variables categóricas indicadas\n",
    "    categorical_col = df[categorical_features]\n",
    "    \n",
    "    # Ajusta el codificador OneHotEncoder con las categorías conocidas\n",
    "    encoder.fit(categorical_col)\n",
    "    \n",
    "    # Transforma las variables categóricas en one-hot encoding\n",
    "    encoded_data = encoder.transform(categorical_col)\n",
    "    \n",
    "    # Obtiene los nombres de las nuevas columnas generadas\n",
    "    feature_names = encoder.get_feature_names_out(categorical_features)\n",
    "    \n",
    "    # Crea un DataFrame con las nuevas columnas one-hot encoding\n",
    "    encoded_df = pd.DataFrame(encoded_data, columns=feature_names)\n",
    "    \n",
    "    # Combina el DataFrame codificado con el resto del DataFrame original\n",
    "    df_encoded = pd.concat([df.drop(categorical_features, axis=1), encoded_df], axis=1)\n",
    "    \n",
    "    return df_encoded\n",
    "\n"
   ]
  },
  {
   "cell_type": "code",
   "execution_count": null,
   "id": "1954e41c",
   "metadata": {},
   "outputs": [],
   "source": []
  },
  {
   "cell_type": "code",
   "execution_count": null,
   "id": "2ce65e1c",
   "metadata": {},
   "outputs": [],
   "source": []
  },
  {
   "cell_type": "code",
   "execution_count": null,
   "id": "2120a306",
   "metadata": {},
   "outputs": [],
   "source": []
  },
  {
   "cell_type": "code",
   "execution_count": null,
   "id": "beebf52d",
   "metadata": {},
   "outputs": [],
   "source": [
    "df = remove_duplicates(df)\n",
    "df = impute_missing_values(df)\n",
    "df = normalize_numeric_variables(df)\n",
    "df = perform_one_hot_encoding"
   ]
  },
  {
   "cell_type": "code",
   "execution_count": null,
   "id": "874327c4",
   "metadata": {},
   "outputs": [],
   "source": [
    "df = remove_duplicates(df)"
   ]
  },
  {
   "cell_type": "code",
   "execution_count": null,
   "id": "6797e173",
   "metadata": {},
   "outputs": [],
   "source": [
    "df = impute_missing_values(df)"
   ]
  },
  {
   "cell_type": "code",
   "execution_count": null,
   "id": "66f0e5d3",
   "metadata": {},
   "outputs": [],
   "source": [
    "null_counts = df.isnull().sum()\n",
    "print(null_counts)"
   ]
  },
  {
   "cell_type": "code",
   "execution_count": null,
   "id": "79d50941",
   "metadata": {},
   "outputs": [],
   "source": [
    "df = normalize_numeric_variables(df)"
   ]
  },
  {
   "cell_type": "code",
   "execution_count": null,
   "id": "bb15403f",
   "metadata": {},
   "outputs": [],
   "source": [
    "df"
   ]
  },
  {
   "cell_type": "code",
   "execution_count": null,
   "id": "cb68034b",
   "metadata": {},
   "outputs": [],
   "source": [
    "df = perform_one_hot_encoding(df, categorical_features)"
   ]
  },
  {
   "cell_type": "code",
   "execution_count": null,
   "id": "6f9ef7b2",
   "metadata": {},
   "outputs": [],
   "source": [
    "df.dtypes"
   ]
  },
  {
   "cell_type": "code",
   "execution_count": null,
   "id": "bf1e469a",
   "metadata": {},
   "outputs": [],
   "source": [
    "df"
   ]
  },
  {
   "cell_type": "code",
   "execution_count": null,
   "id": "855609cc",
   "metadata": {},
   "outputs": [],
   "source": [
    "null_counts = df.isnull().sum()\n",
    "print(null_counts)"
   ]
  },
  {
   "attachments": {},
   "cell_type": "markdown",
   "id": "ec320fc2",
   "metadata": {},
   "source": [
    "### Feature Engineering:\n",
    "\n",
    "##### Dataset: Train"
   ]
  },
  {
   "cell_type": "code",
   "execution_count": null,
   "id": "8180243f",
   "metadata": {},
   "outputs": [],
   "source": [
    "df[\"churn\"] = df.churn.map({'Yes': 1, \"No\": 0})"
   ]
  },
  {
   "cell_type": "code",
   "execution_count": null,
   "id": "ccd95759",
   "metadata": {},
   "outputs": [],
   "source": [
    "X = df.drop([\"clienteidentifier\",\"churn\"], axis = 1)\n",
    "y = df[\"clienteidentifier\",\"churn\"]\n",
    "X_train, X_test, y_train, y_test = train_test_split(X, y, test_size=0.2, random_state=42)"
   ]
  },
  {
   "cell_type": "code",
   "execution_count": null,
   "id": "e0a2d34e",
   "metadata": {},
   "outputs": [],
   "source": []
  },
  {
   "cell_type": "code",
   "execution_count": null,
   "id": "2ff7045e",
   "metadata": {},
   "outputs": [],
   "source": [
    "def print_score(true, pred, train=True):\n",
    "    if train:\n",
    "        clf_report = pd.DataFrame(classification_report(true, pred, output_dict=True))\n",
    "        print(\"Train Result:\\n================================================\")\n",
    "        print(f\"Accuracy Score: {accuracy_score(true, pred) * 100:.2f}%\")\n",
    "        print(\"_______________________________________________\")\n",
    "        print(f\"CLASSIFICATION REPORT:\\n{clf_report}\")\n",
    "        print(\"_______________________________________________\")\n",
    "        print(f\"Confusion Matrix: \\n {confusion_matrix(true, pred)}\\n\")\n",
    "        \n",
    "    elif train==False:\n",
    "        clf_report = pd.DataFrame(classification_report(true, pred, output_dict=True))\n",
    "        print(\"Test Result:\\n================================================\")        \n",
    "        print(f\"Accuracy Score: {accuracy_score(true, pred) * 100:.2f}%\")\n",
    "        print(\"_______________________________________________\")\n",
    "        print(f\"CLASSIFICATION REPORT:\\n{clf_report}\")\n",
    "        print(\"_______________________________________________\")\n",
    "        print(f\"Confusion Matrix: \\n {confusion_matrix(true, pred)}\\n\")"
   ]
  },
  {
   "cell_type": "code",
   "execution_count": null,
   "id": "663b2913",
   "metadata": {},
   "outputs": [],
   "source": []
  },
  {
   "cell_type": "code",
   "execution_count": null,
   "id": "b482d4bf",
   "metadata": {},
   "outputs": [],
   "source": [
    "clf.fit(X_train, y_train.ravel())"
   ]
  },
  {
   "cell_type": "code",
   "execution_count": null,
   "id": "93bdeb9f",
   "metadata": {},
   "outputs": [],
   "source": []
  }
 ],
 "metadata": {
  "kernelspec": {
   "display_name": "Python 3 (ipykernel)",
   "language": "python",
   "name": "python3"
  },
  "language_info": {
   "codemirror_mode": {
    "name": "ipython",
    "version": 3
   },
   "file_extension": ".py",
   "mimetype": "text/x-python",
   "name": "python",
   "nbconvert_exporter": "python",
   "pygments_lexer": "ipython3",
   "version": "3.9.12"
  }
 },
 "nbformat": 4,
 "nbformat_minor": 5
}
